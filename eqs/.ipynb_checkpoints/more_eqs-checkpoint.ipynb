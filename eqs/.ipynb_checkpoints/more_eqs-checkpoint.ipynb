{
 "cells": [
  {
   "cell_type": "code",
   "execution_count": 62,
   "metadata": {},
   "outputs": [],
   "source": [
    "from sympy import *\n",
    "init_printing(use_latex=True, long_frac_ratio=5)\n",
    "import numpy as np"
   ]
  },
  {
   "cell_type": "code",
   "execution_count": 69,
   "metadata": {},
   "outputs": [
    {
     "data": {
      "image/png": "[encoded data removed]",
      "text/latex": [
       "$\\displaystyle r = \\frac{a \\left(1 - e^{2}\\right)}{e \\cos{\\left(\\theta \\right)} + 1}$"
      ],
      "text/plain": [
       "          ⎛     2⎞   \n",
       "        a⋅⎝1 - e ⎠   \n",
       "r = ─────────────────\n",
       "    e⋅cos(\\theta) + 1"
      ]
     },
     "metadata": {},
     "output_type": "display_data"
    },
    {
     "data": {
      "image/png": "[encoded data removed]",
      "text/latex": [
       "$\\displaystyle \\frac{dr}{d\\theta} = \\frac{a e \\left(1 - e^{2}\\right) \\sin{\\left(\\theta \\right)}}{\\left(e \\cos{\\left(\\theta \\right)} + 1\\right)^{2}}$"
      ],
      "text/plain": [
       "                         ⎛     2⎞            \n",
       "                     a⋅e⋅⎝1 - e ⎠⋅sin(\\theta)\n",
       "\\frac{dr}{d\\theta} = ────────────────────────\n",
       "                                          2  \n",
       "                       (e⋅cos(\\theta) + 1)   "
      ]
     },
     "metadata": {},
     "output_type": "display_data"
    },
    {
     "data": {
      "image/png": "[encoded data removed]",
      "text/latex": [
       "$\\displaystyle \\dot{r} = \\frac{e \\sqrt{G a \\left(m_{1} + m_{2}\\right)} \\sin{\\left(\\theta \\right)}}{a \\left(1 - e^{2}\\right)}$"
      ],
      "text/plain": [
       "              _______________            \n",
       "          e⋅╲╱ G⋅a⋅(m₁ + m₂) ⋅sin(\\theta)\n",
       "\\dot{r} = ───────────────────────────────\n",
       "                       ⎛     2⎞          \n",
       "                     a⋅⎝1 - e ⎠          "
      ]
     },
     "metadata": {},
     "output_type": "display_data"
    },
    {
     "data": {
      "image/png": "[encoded data removed]",
      "text/latex": [
       "$\\displaystyle P = 2 \\pi \\sqrt{\\frac{a^{3}}{G \\left(m_{1} + m_{2}\\right)}}$"
      ],
      "text/plain": [
       "             _____________\n",
       "            ╱       3     \n",
       "           ╱       a      \n",
       "P = 2⋅π⋅  ╱   ─────────── \n",
       "        ╲╱    G⋅(m₁ + m₂) "
      ]
     },
     "metadata": {},
     "output_type": "display_data"
    },
    {
     "data": {
      "image/png": "[encoded data removed]",
      "text/latex": [
       "$\\displaystyle r = a \\left(- e \\cos{\\left(E \\right)} + 1\\right)$"
      ],
      "text/plain": [
       "r = a⋅(-e⋅cos(E) + 1)"
      ]
     },
     "metadata": {},
     "output_type": "display_data"
    },
    {
     "data": {
      "image/png": "[encoded data removed]",
      "text/latex": [
       "$\\displaystyle \\frac{dM}{dE} = - e \\cos{\\left(E \\right)} + 1$"
      ],
      "text/plain": [
       "dM                \n",
       "── = -e⋅cos(E) + 1\n",
       "dE                "
      ]
     },
     "metadata": {},
     "output_type": "display_data"
    }
   ],
   "source": [
    "r, v, eps, n = symbols(\"r v \\\\varepsilon n\")\n",
    "rthprime, rthdot = symbols(\"\\\\frac{dr}{d\\\\theta} \\\\dot{r}\")\n",
    "\n",
    "rtheta, rthetap, vel = symbols(\"r_th r_th^i vel\")\n",
    "a, e, G, th, m1, m2 = symbols(\"a e G \\\\theta m1 m2\")\n",
    "e = Symbol(\"e\", real=True, positive=True)\n",
    "E = Symbol(\"E\", real=True, positive=True)\n",
    "\n",
    "mu = m1*m2/(m1+m2)\n",
    "L = sqrt(a*G*(m1+m2))*mu\n",
    "\n",
    "P = 2*pi*sqrt(a*a*a/ (G*(m1+m2)))\n",
    "\n",
    "rtheta = a*(1-e**2)/(1 + e*cos(th))\n",
    "rthetap = diff(rtheta, th)\n",
    "rthetadot = L/mu*(e*sin(th))/(1+e*cos(th))/rtheta\n",
    "\n",
    "rE = a*(1-e*cos(E))\n",
    "dMdE = (1 - e*cos(E))\n",
    "#rE = refine(rE, Q.is_true(e<1))\n",
    "#dMdE = refine(dMdE, Q.is_true(e<1))\n",
    "\n",
    "#a*(1-e**2)/(1 + e*cos(th))**2 *e*sin(th)\n",
    "vel = sqrt(mu/(a*(1-e**2)))*e*sin(th)\n",
    "\n",
    "display(Eq(r,rtheta))\n",
    "display(Eq(rthprime, rthetap))\n",
    "display(Eq(rthdot, rthetadot))\n",
    "display(Eq(S(\"P\"), P))\n",
    "\n",
    "display(Eq(r, rE))\n",
    "display(Eq(S(\"dM/dE\"), dMdE))"
   ]
  },
  {
   "cell_type": "code",
   "execution_count": 70,
   "metadata": {},
   "outputs": [
    {
     "data": {
      "image/png": "[encoded data removed]",
      "text/latex": [
       "$\\displaystyle \\frac{a \\left(e^{2} + 2\\right)}{2}$"
      ],
      "text/plain": [
       "  ⎛ 2    ⎞\n",
       "a⋅⎝e  + 2⎠\n",
       "──────────\n",
       "    2     "
      ]
     },
     "metadata": {},
     "output_type": "display_data"
    },
    {
     "data": {
      "image/png": "[encoded data removed]",
      "text/latex": [
       "$\\displaystyle \\frac{1}{a}$"
      ],
      "text/plain": [
       "1\n",
       "─\n",
       "a"
      ]
     },
     "metadata": {},
     "output_type": "display_data"
    }
   ],
   "source": [
    "aver = integrate(rE*dMdE/(2*pi), (E, 0, 2*pi)) \n",
    "aver2 = integrate(1/rE*dMdE/(2*pi), (E, 0, 2*pi)) \n",
    "\n",
    "\n",
    "display(aver.simplify())\n",
    "display(aver2.simplify())"
   ]
  },
  {
   "cell_type": "code",
   "execution_count": null,
   "metadata": {},
   "outputs": [],
   "source": []
  }
 ],
 "metadata": {
  "kernelspec": {
   "display_name": "Python 3",
   "language": "python",
   "name": "python3"
  },
  "language_info": {
   "codemirror_mode": {
    "name": "ipython",
    "version": 3
   },
   "file_extension": ".py",
   "mimetype": "text/x-python",
   "name": "python",
   "nbconvert_exporter": "python",
   "pygments_lexer": "ipython3",
   "version": "3.7.6"
  }
 },
 "nbformat": 4,
 "nbformat_minor": 2
}
